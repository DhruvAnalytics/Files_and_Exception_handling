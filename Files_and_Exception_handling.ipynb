{
  "nbformat": 4,
  "nbformat_minor": 0,
  "metadata": {
    "colab": {
      "provenance": []
    },
    "kernelspec": {
      "name": "python3",
      "display_name": "Python 3"
    },
    "language_info": {
      "name": "python"
    }
  },
  "cells": [
    {
      "cell_type": "markdown",
      "source": [
        "# Files, exception handling, logging and memory management : Theorical Questions"
      ],
      "metadata": {
        "id": "-M6t09II5dG9"
      }
    },
    {
      "cell_type": "markdown",
      "source": [
        "1. What is the difference between interpreted and compiled languages?\n",
        "  - The main difference between interpreted and compiled languages is how the code we write gets turned into something the computer can understand and run.\n",
        "  - In compiled languages, the whole program is translated into machine code before it runs. This is done by a compiler. Once it's compiled, we can run the program without needing the original source code. It's usually faster because everything is already converted. Examples of compiled languages include C and C++.\n",
        "  - In interpreted languages, the code is translated line by line as it runs, using something called an interpreter. This means we don't have to compile it first, which can make development quicker and easier to test, but it might run a bit slower. Examples of interpreted languages is Python."
      ],
      "metadata": {
        "id": "ZaiO3uZA55-a"
      }
    },
    {
      "cell_type": "markdown",
      "source": [
        "2. What is exception handling in Python?\n",
        "  - Exception handling in Python is a way to deal with errors that might happen when our program is running. Instead of our code crashing when something goes wrong—like trying to divide by zero or open a file that doesn't exist - Python lets us 'handle' these situations using special keywords like try, except and finally.\n",
        "  - We put the code that might cause an error inside a try block. If an error happens, Python jumps to the except block, where we can write code to handle the problem. The finally block always runs no matter what, and it's usually used to clean things up—like closing a file."
      ],
      "metadata": {
        "id": "1SPPLkQg8ZQV"
      }
    },
    {
      "cell_type": "code",
      "execution_count": null,
      "metadata": {
        "id": "WRyeeuro5E6j"
      },
      "outputs": [],
      "source": [
        "# Syntax\n",
        "# try:\n",
        "  # suspicious code\n",
        "# except:\n",
        "  # executed when exception occurs in try block\n",
        "# finally:\n",
        "  # always executed"
      ]
    },
    {
      "cell_type": "markdown",
      "source": [
        "3. What is the purpose of the finally block in exception handling?\n",
        "  - The finally block is used to write code that should always run, no matter what—whether an error happened or not. It comes at the end of a try/except block.\n",
        "  - This is especially useful for things like closing a file, disconnecting from a database, or cleaning up resources that our program used, even if something went wrong during execution."
      ],
      "metadata": {
        "id": "y-AU5uDR-6EP"
      }
    },
    {
      "cell_type": "code",
      "source": [
        "# Example of finally :\n",
        "try:\n",
        "  file = open(\"data.txt\",\"r\")\n",
        "  print(file.read())\n",
        "except FileNotFoundError as e:\n",
        "  print(\"Error:\",e)\n",
        "finally:\n",
        "  print(\"Closing the file\")"
      ],
      "metadata": {
        "colab": {
          "base_uri": "https://localhost:8080/"
        },
        "id": "NQbzZDID_zBs",
        "outputId": "14872280-7d60-4837-a3c0-544ca27cc5e5"
      },
      "execution_count": null,
      "outputs": [
        {
          "output_type": "stream",
          "name": "stdout",
          "text": [
            "Error: [Errno 2] No such file or directory: 'data.txt'\n",
            "Closing the file\n"
          ]
        }
      ]
    },
    {
      "cell_type": "markdown",
      "source": [
        "4. What is logging in Python?\n",
        "  - Logging in Python is a way to keep track of what our program is doing while it runs. Instead of just using print() to show messages, Python's built-in logging module lets us record information like errors, warnings or general updates in a more organized and flexible way.\n",
        "  - The useful thing about logging is that we can choose how important each message is (like debug info, warnings, or critical errors) and we can send those messages to different places—like the console, a file or even a remote server."
      ],
      "metadata": {
        "id": "1DemrbZAA--b"
      }
    },
    {
      "cell_type": "code",
      "source": [
        "# Example of logging :\n",
        "import logging\n",
        "\n",
        "#This clears any previous handlers (and this is for colab users)\n",
        "for handler in logging.root.handlers[:]:\n",
        "    logging.root.removeHandler(handler)\n",
        "\n",
        "\n",
        "logging.basicConfig(filename = \"test.log\", level = logging.DEBUG)\n",
        "\n",
        "try:\n",
        "  10/0\n",
        "except ZeroDivisionError as e:\n",
        "  logging.error(f\"Error: {e}\")\n",
        "# This code create the log file in current directory and this log file will contain the error message."
      ],
      "metadata": {
        "id": "gJjNJjk5Gopa"
      },
      "execution_count": null,
      "outputs": []
    },
    {
      "cell_type": "code",
      "source": [
        "ls # It shows the names of files and folders of current directory (and here we can see the test.log file is created):"
      ],
      "metadata": {
        "colab": {
          "base_uri": "https://localhost:8080/"
        },
        "id": "ICQrlUAZDoom",
        "outputId": "b929f531-8da1-4fc3-e278-e251eaa8fc04"
      },
      "execution_count": null,
      "outputs": [
        {
          "output_type": "stream",
          "name": "stdout",
          "text": [
            "\u001b[0m\u001b[01;34mPW_Skills\u001b[0m/  test.log\n"
          ]
        }
      ]
    },
    {
      "cell_type": "markdown",
      "source": [
        "5. What is the significance of the __ del __ method in Python?\n",
        "  - The del method in Python is kind of like a clean-up crew for objects. It's a special method, also called a destructor and it gets called automatically when an object is about to be destroyed - usually when there are no more references to it.\n",
        "  - we can use __ del __ to free up resources or perform final tasks before the object disappears, like closing a file or releasing memory.\n",
        "\n"
      ],
      "metadata": {
        "id": "ecyYoKMdJzrY"
      }
    },
    {
      "cell_type": "code",
      "source": [
        "# Example of __del__ :\n",
        "class MyClass:\n",
        "  def __del__(self):\n",
        "    print(\"Object is being deleted.\")\n",
        "\n",
        "obj = MyClass()\n",
        "print(obj)\n",
        "del obj # This will trigger the __del__ method"
      ],
      "metadata": {
        "colab": {
          "base_uri": "https://localhost:8080/"
        },
        "id": "4VUvS5tVLWfY",
        "outputId": "882b551b-e87d-4d4c-ddd5-b19d233699a5"
      },
      "execution_count": null,
      "outputs": [
        {
          "output_type": "stream",
          "name": "stdout",
          "text": [
            "<__main__.MyClass object at 0x7904ad97a090>\n",
            "Object is being deleted.\n"
          ]
        }
      ]
    },
    {
      "cell_type": "markdown",
      "source": [
        "6. What is the difference between import and from ... import in Python?\n",
        "  - Both import and from ... import are used to bring in code from other Python modules, but they work a little differently.\n",
        "      - import brings in the whole module, and we have to use the module name when calling anything from it.\n",
        "      - from ... import lets us bring in specific parts of a module, so we don't have to type the module name every time."
      ],
      "metadata": {
        "id": "snoQy6AdNMt5"
      }
    },
    {
      "cell_type": "code",
      "source": [
        "# Example of import :\n",
        "import math\n",
        "print(math.sqrt(16)) # We have to use math. before sqrt\n",
        "\n",
        "#Example of from ...import :\n",
        "from math import sqrt\n",
        "print(sqrt(16)) # We can use sqrt directly"
      ],
      "metadata": {
        "colab": {
          "base_uri": "https://localhost:8080/"
        },
        "id": "uzmj52yNOOwr",
        "outputId": "40fa8630-f896-4a44-b279-7f7961f0842e"
      },
      "execution_count": null,
      "outputs": [
        {
          "output_type": "stream",
          "name": "stdout",
          "text": [
            "4.0\n",
            "4.0\n"
          ]
        }
      ]
    },
    {
      "cell_type": "markdown",
      "source": [
        "7. How can you handle multiple exceptions in Python?\n",
        "  - In Python, we can handle multiple exceptions by using multiple except blocks or by grouping exceptions together in a single block. This lets our program respond differently depending on what kind of error happens."
      ],
      "metadata": {
        "id": "i-8ZhXyZO7aj"
      }
    },
    {
      "cell_type": "code",
      "source": [
        "# Method 1 : Multiple except blocks\n",
        "try:\n",
        "  x = int(\"abc\")\n",
        "except ValueError as e:\n",
        "  print(\"Value error:\",e)\n",
        "except ZeroDivisionError as e:\n",
        "  print(\"Zero division error:\",e)\n",
        "\n",
        "# Method 2 : Grouping exceptions in one block\n",
        "try:\n",
        "  10/'3'\n",
        "except (ZeroDivisionError, TypeError) as e:\n",
        "    print(\"Actual error:\",e)"
      ],
      "metadata": {
        "colab": {
          "base_uri": "https://localhost:8080/"
        },
        "id": "SK-n-wXdPemQ",
        "outputId": "dc972830-195b-4b3c-ebdd-219553c8e9e1"
      },
      "execution_count": null,
      "outputs": [
        {
          "output_type": "stream",
          "name": "stdout",
          "text": [
            "Value error: invalid literal for int() with base 10: 'abc'\n",
            "Actual error: unsupported operand type(s) for /: 'int' and 'str'\n"
          ]
        }
      ]
    },
    {
      "cell_type": "markdown",
      "source": [
        "8. What is the purpose of the with statement when handling files in Python?\n",
        "  - The with statement is used in Python to handle files in a cleaner and safer way. Its main job is to automatically take care of opening and closing the file for us - even if something goes wrong while we are working with the file.\n",
        "  - When we use with, Python makes sure the file is closed properly after the block of code finishes, so we don't have to call file.close() manually. This helps prevent bugs, memory issues or files getting stuck open."
      ],
      "metadata": {
        "id": "vFLl4wuEQsAs"
      }
    },
    {
      "cell_type": "code",
      "source": [
        "# Example of with :\n",
        "with open(\"test.txt\", \"r\") as file:\n",
        "  data = file.read()\n",
        "  print(data) # here we don't need to write file.close()"
      ],
      "metadata": {
        "colab": {
          "base_uri": "https://localhost:8080/"
        },
        "id": "BgHqHE0MRszm",
        "outputId": "a2f8e93e-8f85-41c4-962a-5dacbb2447b5"
      },
      "execution_count": null,
      "outputs": [
        {
          "output_type": "stream",
          "name": "stdout",
          "text": [
            "This is test file\n"
          ]
        }
      ]
    },
    {
      "cell_type": "markdown",
      "source": [
        "9. What is the difference between multithreading and multiprocessing?\n",
        "  - Both multithreading and multiprocessing are ways to run tasks at the same time, but they work differently.\n",
        "      - Multithreading means running multiple threads within the same process. Threads share the same memory space, so they can talk to each other easily, but they also have to be careful not to get in each other's way. In Python, because of something called the Global Interpreter Lock (GIL), threads don't always run in true parallel—so multithreading is usually better for tasks that wait around a lot, like downloading files or reading from a database.\n",
        "      - Multiprocessing runs each task in a separate process with its own memory. This means they can truly run at the same time, taking full advantage of multiple CPU cores. It's great for CPU-heavy work, like crunching numbers or processing big data."
      ],
      "metadata": {
        "id": "NnqahefKSk9r"
      }
    },
    {
      "cell_type": "markdown",
      "source": [
        "10. What are the advantages of using logging in a program?\n",
        "  - Using logging in a program gives us a smarter way to keep track of what our code is doing, especially when things go wrong. It's way better than just using print() statements all over the place.\n",
        "  - Here are some key advantages :    \n",
        "      - Helps with debugging : Logging shows us what happened and when, so if something breaks, we can figure out why more easily.\n",
        "      - Saves records : We can store logs in a file and look back at them later - even after the program has stopped running.\n",
        "      - Different levels of messages : We can choose how serious a message is (like INFO, WARNING, ERROR, or CRITICAL), which helps keep things organized.\n",
        "      - Keeps code clean : Logging separates status messages from our main code logic, so our code stays tidy and easier to maintain."
      ],
      "metadata": {
        "id": "sSGuVVjtTnKt"
      }
    },
    {
      "cell_type": "markdown",
      "source": [
        "11. What is memory management in Python?\n",
        "  - Memory management in Python is all about how the language handles storing and cleaning up data in our computer's memory while our program runs.\n",
        "  - Threads share memory and need careful coordination, while processes avoid conflicts by using separate memory — but at the cost of higher memory usage and communication overhead.\n",
        "  - Here's what's happening behind the scenes :\n",
        "      - Automatic memory allocation: When we create a variable or an object, Python automatically finds a place in memory to store it.\n",
        "      - Garbage collection: Python also has a built-in system called the garbage collector that looks for objects we are no longer using and removes them to free up memory.\n",
        "      - Reference counting: Python keeps track of how many times an object is being used. When nothing is using it anymore (i.e., its reference count drops to zero), it gets deleted."
      ],
      "metadata": {
        "id": "yAko88r4U_nx"
      }
    },
    {
      "cell_type": "markdown",
      "source": [
        "12. What are the basic steps involved in exception handling in Python?\n",
        "  - Exception handling in Python is a way to deal with errors that might happen while our code runs. Instead of crashing, your program can catch the problem and respond in a smarter way.\n",
        "  - Here are the basic steps :\n",
        "      - Use a try block - Put the code that might cause an error inside a try block. This is like saying, “Try this, but be ready if something goes wrong.”\n",
        "      - Add an except block - If there's an error in the try block, Python will jump to the except block. This is where we handle the error - maybe by showing a message or using a backup plan.\n",
        "      - (Optional) Use else - If no error happens in the try block, the code in the else block runs. This is great for code that should only run if everything goes smoothly.\n",
        "      - (Optional) Use finally - This block runs no matter what, whether an error happened or not. It's usually used to clean things up, like closing a file or releasing resources."
      ],
      "metadata": {
        "id": "Cei47LJ_WUSL"
      }
    },
    {
      "cell_type": "code",
      "source": [
        "# Example of it:\n",
        "try:\n",
        "  num = int(input(\"Enter a number:\"))\n",
        "except Exception as e:\n",
        "  print(\"Error\",e)\n",
        "else:\n",
        "  print(f\"You entered : {num}\")\n",
        "finally:\n",
        "  print(\"Done!\")"
      ],
      "metadata": {
        "colab": {
          "base_uri": "https://localhost:8080/"
        },
        "id": "O2H6emizRFZz",
        "outputId": "6f509164-896b-4373-80c1-a4a4c7e12937"
      },
      "execution_count": null,
      "outputs": [
        {
          "output_type": "stream",
          "name": "stdout",
          "text": [
            "Enter a number:7\n",
            "You entered : 7\n",
            "Done!\n"
          ]
        }
      ]
    },
    {
      "cell_type": "markdown",
      "source": [
        "13. Why is memory management important in Python?\n",
        "  - Memory management is important in Python because it helps our program run efficiently and avoid problems like slow performance or crashes. Even though Python handles a lot of memory stuff behind the scenes, managing memory well still matters—especially for bigger programs or ones that run for a long time. It keeps our data safe in threads and avoids memory overload in processes.\n",
        "  - Here's why it's important :\n",
        "      - Prevents memory leaks: If our program keeps holding onto memory it doesn't need anymore, it can slow down or crash. Good memory management helps avoid that.\n",
        "      - Improves performance: When our program uses only the memory it needs, it runs faster and smoother.\n",
        "      - Reduces resource waste: Memory is a limited resource. Managing it well ensures our program doesn't take up more than its fair share, especially when running on shared or low-memory systems.\n",
        "\n"
      ],
      "metadata": {
        "id": "Uc7ttEyCYgiH"
      }
    },
    {
      "cell_type": "markdown",
      "source": [
        "14. What is the role of try and except in exception handling?\n",
        "  - The try and except blocks are the core of exception handling in Python. They deal with errors in a clean, controlled way - without crashing.\n",
        "  - Here's how they work :\n",
        "      - try block: This is where we put the code that might cause an error. Python will “try” to run this code.\n",
        "      - except block: If an error happens in the try block, Python immediately jumps to the except block. This is where we write the code to handle the error - like showing a user-friendly message, logging the issue, or using a backup plan."
      ],
      "metadata": {
        "id": "P3GqfZzRax3h"
      }
    },
    {
      "cell_type": "code",
      "source": [
        "# Example of try and except block\n",
        "try:\n",
        "  10/0\n",
        "except ZeroDivisionError as e:\n",
        "  print(\"Error:\", e)"
      ],
      "metadata": {
        "colab": {
          "base_uri": "https://localhost:8080/"
        },
        "id": "9q5e54DkbZYe",
        "outputId": "6e9d0be5-b42e-42b3-ccca-55effffd5497"
      },
      "execution_count": null,
      "outputs": [
        {
          "output_type": "stream",
          "name": "stdout",
          "text": [
            "Error: division by zero\n"
          ]
        }
      ]
    },
    {
      "cell_type": "markdown",
      "source": [
        "15. How does Python's garbage collection system work?\n",
        "  - Python's garbage collection system is like an automatic cleanup crew. Its job is to find and remove objects in memory that are no longer being used - so our program doesn't waste memory or slow down.\n",
        "  - Here's how it works :\n",
        "      - Reference counting : Python keeps track of how many references (or \"links\") there are to an object. When we create a new variable or assign something, the reference count goes up. When the references go away (like if a variable is deleted), the count goes down.\n",
        "      - Automatic deletion : When an object's reference count drops to zero - meaning nothing is using it anymore - Python deletes it automatically to free up memory.\n",
        "      - Cyclic garbage collection : Sometimes, objects reference each other in a loop (a cycle), so even if nothing else is using them, their reference count never drops to zero. Python's garbage collector is smart enough to detect these cycles and clean them up too, using a separate algorithm that runs occasionally in the background."
      ],
      "metadata": {
        "id": "FrZCvgifb89v"
      }
    },
    {
      "cell_type": "markdown",
      "source": [
        "16. What is the purpose of the else block in exception handling?\n",
        "  - The else block in exception handling is used for code that should run only if no exceptions were raised in the try block.\n",
        "  - The else block keeps our success code separate from our error-handling code, making things cleaner and easier to read."
      ],
      "metadata": {
        "id": "q_rxEUKLdush"
      }
    },
    {
      "cell_type": "code",
      "source": [
        "# Example of else bloock :\n",
        "try:\n",
        "  a = int(input(\"Enter the numerator: \"))\n",
        "  b = int(input(\"Enter the denominator: \"))\n",
        "  result = a / b\n",
        "\n",
        "except ValueError as e:\n",
        "  print(\"Error\", e)\n",
        "except ZeroDivisionError:\n",
        "  print(\"Error\", e)\n",
        "else:\n",
        "  print(\"The result is:\", result)"
      ],
      "metadata": {
        "colab": {
          "base_uri": "https://localhost:8080/"
        },
        "id": "VauKmbLIeiF5",
        "outputId": "e1eee36a-7f02-4d2b-ba95-d113b1fa0aa0"
      },
      "execution_count": null,
      "outputs": [
        {
          "output_type": "stream",
          "name": "stdout",
          "text": [
            "Enter the numerator: 8\n",
            "Enter the denominator: 2\n",
            "The result is: 4.0\n"
          ]
        }
      ]
    },
    {
      "cell_type": "markdown",
      "source": [
        "17. What are the common logging levels in Python?\n",
        "  - Python's logging system has different levels to show how important or serious a message is. These levels help us filter what kind of information gets shown or saved, depending on what we are trying to track (like debugging or spotting major issues).\n",
        "  - Here are the most common logging levels, from least to most serious :\n",
        "      - DEBUG - Detailed info, mostly useful for developers while debugging.\n",
        "      - INFO - General information about program progress.\n",
        "      - WARNING - Something might be wrong, but the program is still running.\n",
        "      - ERROR - A serious problem happened, but the program can keep going.\n",
        "      - CRITICAL - A major error that might stop the program entirely."
      ],
      "metadata": {
        "id": "4-w5xSA3fiTz"
      }
    },
    {
      "cell_type": "markdown",
      "source": [
        "18. What is the difference between os.fork() and multiprocessing in Python?\n",
        "  - Both os.fork() and the multiprocessing module can be used to create new processes in Python, but they work differently and are used in different ways.\n",
        "  - os.fork() :\n",
        "      - It directly creates a child process by duplicating the current process.\n",
        "      - It's a low-level method and is only available on Unix-like systems (like Linux and macOS—not Windows).\n",
        "      - We have to manage everything ourself, like communication between processes.\n",
        "      - Not very beginner-friendly, but gives more control if we know what we are doing.\n",
        "  - multiprocessing module :\n",
        "      - A high-level way to create and manage multiple processes.\n",
        "      - Works on all platforms, including Windows.\n",
        "      - Easier to use and comes with tools like process pools, queues and pipes for sharing data safely.\n",
        "      - Ideal for CPU-heavy tasks where true parallel processing is needed."
      ],
      "metadata": {
        "id": "fbAeEJjTgwPg"
      }
    },
    {
      "cell_type": "markdown",
      "source": [
        "19. What is the importance of closing a file in Python?\n",
        "  - Closing a file in Python is important because it frees up system resources and makes sure all your data is saved properly. When we open a file—especially for writing or appending - Python may temporarily store some data in memory (this is called buffering) before actually writing it to the file.\n",
        "  - If we don't close the file :\n",
        "      - Data might not be saved completely.\n",
        "      - We could lose changes or end up with a corrupted file.\n",
        "      - The program could run into limits if too many files are left open.\n",
        "      - It can cause memory leaks or unexpected behavior.\n",
        "  - Closing a file ensures that everything is saved properly and helps our program run more efficiently and safely."
      ],
      "metadata": {
        "id": "uefzLfFji3am"
      }
    },
    {
      "cell_type": "code",
      "source": [
        "# Example of close() :\n",
        "file = open(\"data123.txt\", \"w\")\n",
        "file.write(\"Hello, world!\")\n",
        "file.close()  # Ensures the text is saved and file is safely closed"
      ],
      "metadata": {
        "id": "T1JaxMbIkttO"
      },
      "execution_count": null,
      "outputs": []
    },
    {
      "cell_type": "code",
      "source": [
        "ls # here we can see the data123.txt file is created"
      ],
      "metadata": {
        "colab": {
          "base_uri": "https://localhost:8080/"
        },
        "id": "YboZd-zIl2Hg",
        "outputId": "94dc3ac0-2b60-47ea-b58f-d3fce980d157"
      },
      "execution_count": null,
      "outputs": [
        {
          "output_type": "stream",
          "name": "stdout",
          "text": [
            "data123.txt  \u001b[0m\u001b[01;34mPW_Skills\u001b[0m/  test.log  test.txt\n"
          ]
        }
      ]
    },
    {
      "cell_type": "markdown",
      "source": [
        "20. What is the difference between file.read() and file.readline() in Python?\n",
        "  - Both file.read() and file.readline() are used to read data from a file, but they behave differently:\n",
        "  - file.read() :\n",
        "      - Reads the entire content of the file at once as a single string.\n",
        "      - Useful when we want to work with the whole file at once.\n",
        "      - Not ideal for very large files, as it loads everything into memory.\n",
        "  - file.readline() :\n",
        "      - Reads just one line from the file at a time.\n",
        "      - Returns the next line each time we call it.\n",
        "      - Great for reading big files line-by-line without using too much memory.\n",
        "\n"
      ],
      "metadata": {
        "id": "WFv44iIUmlRp"
      }
    },
    {
      "cell_type": "code",
      "source": [
        "# Example of read() :\n",
        "with open(\"test11.txt\", \"r\") as file:\n",
        "    content = file.read()\n",
        "    print(content)\n",
        "\n",
        "\n",
        "print()\n",
        "print()\n",
        "print()\n",
        "\n",
        "\n",
        "# Example of readline() :\n",
        "with open(\"test11.txt\", \"r\") as file:\n",
        "    line = file.readline()\n",
        "    print(line)"
      ],
      "metadata": {
        "colab": {
          "base_uri": "https://localhost:8080/"
        },
        "id": "ISk9GGlFqmv0",
        "outputId": "6c35fdb5-d58f-4336-d21b-88cab62b2c1e"
      },
      "execution_count": null,
      "outputs": [
        {
          "output_type": "stream",
          "name": "stdout",
          "text": [
            "Hello, world!\n",
            "This is the second line\n",
            "\n",
            "\n",
            "\n",
            "Hello, world!\n",
            "\n"
          ]
        }
      ]
    },
    {
      "cell_type": "markdown",
      "source": [
        "21. What is the logging module in Python used for?\n",
        "  - The logging module in Python is used to track events that happen while our program runs. Instead of using a bunch of print() statements to debug or monitor our code, we can use logging to write messages that describe what our program is doing - and how it's doing.\n",
        "  - These messages can show :\n",
        "      - When something happens (like a user logs in)\n",
        "      - If an error occurs\n",
        "      - What went wrong and where\n",
        "      - System behavior over time\n",
        "  - Why it's useful :\n",
        "      - We can save logs to a file, so we can check them later.\n",
        "      - We can choose the level of importance (e.g., debug, info, warning, error).\n",
        "      - It's more flexible and professional than using print() - especially for large or long-running programs."
      ],
      "metadata": {
        "id": "1-UuLPqAtTnl"
      }
    },
    {
      "cell_type": "code",
      "source": [
        "import logging\n",
        "\n",
        "# Clear existing handlers first\n",
        "for handler in logging.root.handlers[:]:\n",
        "    logging.root.removeHandler(handler)\n",
        "\n",
        "logging.basicConfig(level=logging.INFO)\n",
        "logging.info(\"Program started\")\n",
        "logging.warning(\"This is a warning\")\n",
        "logging.error(\"Something went wrong!\")"
      ],
      "metadata": {
        "colab": {
          "base_uri": "https://localhost:8080/"
        },
        "id": "kMXdJRJ8u351",
        "outputId": "d9961d96-56cd-4980-9161-03a8fb30554f"
      },
      "execution_count": null,
      "outputs": [
        {
          "output_type": "stream",
          "name": "stderr",
          "text": [
            "INFO:root:Program started\n",
            "WARNING:root:This is a warning\n",
            "ERROR:root:Something went wrong!\n"
          ]
        }
      ]
    },
    {
      "cell_type": "markdown",
      "source": [
        "22. What is the os module in Python used for in file handling?\n",
        "  - The os module in Python is used to interact with the operating system, and it's super helpful when working with files and directories. It lets us do things like navigate folders, check if files exist, rename or delete files, and more - right from our Python code."
      ],
      "metadata": {
        "id": "rFN_ej8Fvl-D"
      }
    },
    {
      "cell_type": "code",
      "source": [
        "# Common uses in file handling :\n",
        "\n",
        "import os\n",
        "\n",
        "# get the current working directory :\n",
        "print(os.getcwd())\n",
        "\n",
        "# Make directory\n",
        "os.mkdir(\"testt\")\n",
        "\n",
        "# get the list which contains names of files and folders of current derectory:\n",
        "print(os.listdir())\n",
        "\n",
        "# Remove the directory which doesn't contain anything\n",
        "os.rmdir(\"testt\")\n",
        "\n",
        "print(\"After removing testt:\", os.listdir())\n",
        "\n",
        "# Checking if a file or folder exists :\n",
        "print(\"Is file.txt exist?\", os.path.exists(\"file.txt\"))\n",
        "\n",
        "# get the size of the file:\n",
        "print(\"Size of file:\",os.path.getsize(\"data1234.txt\"))\n",
        "\n",
        "# Renaming or deleting a file :\n",
        "os.rename(\"data1234.txt\", \"data123.txt\")\n",
        "\n",
        "print(\"After renaming file - data1234 to data123:\", os.listdir())\n",
        "#os.remove(\"file.txt\") # for removing the file"
      ],
      "metadata": {
        "colab": {
          "base_uri": "https://localhost:8080/"
        },
        "id": "552FvvbyxNXN",
        "outputId": "ce5879da-412d-4645-81e4-38b250038b22"
      },
      "execution_count": null,
      "outputs": [
        {
          "output_type": "stream",
          "name": "stdout",
          "text": [
            "/content/drive/MyDrive\n",
            "['PW_Skills', 'test.log', 'test.txt', 'data1234.txt', 'test11.txt', 'testt']\n",
            "After removing testt: ['PW_Skills', 'test.log', 'test.txt', 'data1234.txt', 'test11.txt']\n",
            "Is file.txt exist? False\n",
            "Size of file: 13\n",
            "After renaming file - data1234 to data123: ['PW_Skills', 'test.log', 'test.txt', 'data123.txt', 'test11.txt']\n"
          ]
        }
      ]
    },
    {
      "cell_type": "markdown",
      "source": [
        "23. What are the challenges associated with memory management in Python?\n",
        "  - While Python handles memory management automatically, there are still a few challenges that developers should be aware of :\n",
        "  - Memory leaks :    \n",
        "      - Even though Python has garbage collection, memory leaks can still happen.\n",
        "      - This usually occurs when objects reference each other in a cycle or when something holds onto data longer than necessary (like in global variables or caches).\n",
        "  - Multithreading limitations (Global Interpreter Lock GIL) :    \n",
        "      - In multithreaded programs, Python's GIL can prevent multiple threads from executing in parallel on multiple CPUs, which can limit performance and memory efficiency in some scenarios.\n",
        "  - Independent Memory in Multiprocessing :\n",
        "      - Sharing data between processes (using Queue, Pipe or shared memory) becomes more complex and costly in terms of memory usage and management.\n",
        "  - Circular references :    \n",
        "      - Python's garbage collector can handle circular references, but they can be tricky and sometimes delay cleanup.\n",
        "      - For example, if two objects refer to each other, they might not be collected right away - even if nothing else is using them.\n",
        "  - Lack of manual control :     \n",
        "      - Unlike some other languages (like C or C++), Python doesn't give us much direct control over memory allocation or deallocation. That makes it easier to use, but harder to optimize in certain cases."
      ],
      "metadata": {
        "id": "EcbAeg352S8C"
      }
    },
    {
      "cell_type": "markdown",
      "source": [
        "24. How do you raise an exception manually in Python?\n",
        "  - In Python, we can raise an exception manually using the raise keyword. This is useful when we want to stop the program or alert the user if something unexpected or invalid happens. Basic Syntax : raise ExceptionType(\"Our custom error message\")\n",
        "  - Use raise to throw an exception when something's wrong—it's our way of saying, \"Stop! This isn't okay.\"\n",
        "  - Another way is : using custom exception class (here, we define the exception.)"
      ],
      "metadata": {
        "id": "_96_t_6v4caz"
      }
    },
    {
      "cell_type": "code",
      "source": [
        "# Example of raise an exception manually (using raise keyword):\n",
        "age = int(input(\"Enter your age: \"))\n",
        "if age < 0:\n",
        "    raise ValueError(\"Age cannot be negative\")"
      ],
      "metadata": {
        "colab": {
          "base_uri": "https://localhost:8080/",
          "height": 193
        },
        "id": "5qNYeE516tp5",
        "outputId": "5e1cfa73-7504-40e2-8e44-0960421b14cd"
      },
      "execution_count": null,
      "outputs": [
        {
          "name": "stdout",
          "output_type": "stream",
          "text": [
            "Enter your age: -24\n"
          ]
        },
        {
          "output_type": "error",
          "ename": "ValueError",
          "evalue": "Age cannot be negative",
          "traceback": [
            "\u001b[0;31m---------------------------------------------------------------------------\u001b[0m",
            "\u001b[0;31mValueError\u001b[0m                                Traceback (most recent call last)",
            "\u001b[0;32m<ipython-input-35-85d707dd8cec>\u001b[0m in \u001b[0;36m<cell line: 0>\u001b[0;34m()\u001b[0m\n\u001b[1;32m      2\u001b[0m \u001b[0mage\u001b[0m \u001b[0;34m=\u001b[0m \u001b[0mint\u001b[0m\u001b[0;34m(\u001b[0m\u001b[0minput\u001b[0m\u001b[0;34m(\u001b[0m\u001b[0;34m\"Enter your age: \"\u001b[0m\u001b[0;34m)\u001b[0m\u001b[0;34m)\u001b[0m\u001b[0;34m\u001b[0m\u001b[0;34m\u001b[0m\u001b[0m\n\u001b[1;32m      3\u001b[0m \u001b[0;32mif\u001b[0m \u001b[0mage\u001b[0m \u001b[0;34m<\u001b[0m \u001b[0;36m0\u001b[0m\u001b[0;34m:\u001b[0m\u001b[0;34m\u001b[0m\u001b[0;34m\u001b[0m\u001b[0m\n\u001b[0;32m----> 4\u001b[0;31m     \u001b[0;32mraise\u001b[0m \u001b[0mValueError\u001b[0m\u001b[0;34m(\u001b[0m\u001b[0;34m\"Age cannot be negative\"\u001b[0m\u001b[0;34m)\u001b[0m\u001b[0;34m\u001b[0m\u001b[0;34m\u001b[0m\u001b[0m\n\u001b[0m",
            "\u001b[0;31mValueError\u001b[0m: Age cannot be negative"
          ]
        }
      ]
    },
    {
      "cell_type": "code",
      "source": [
        "# Using custom exception class\n",
        "class ValidateAge(Exception):\n",
        "  def __init__(self, msg):\n",
        "    self.msg = msg\n",
        "\n",
        "def validate_age(age):\n",
        "  if age < 0:\n",
        "    raise ValidateAge(\"Age cannot be negative\")\n",
        "\n",
        "try:\n",
        "  age = int(input(\"Enter your age:\"))\n",
        "  validate_age(age)\n",
        "except ValidateAge as e:\n",
        "  print(\"Error:\",e)"
      ],
      "metadata": {
        "colab": {
          "base_uri": "https://localhost:8080/"
        },
        "id": "CFENdUOjjNto",
        "outputId": "b49d40ab-958d-4d7b-f2c2-4b614c49e2a0"
      },
      "execution_count": null,
      "outputs": [
        {
          "output_type": "stream",
          "name": "stdout",
          "text": [
            "Enter your age:-24\n",
            "Error: Age cannot be negative\n"
          ]
        }
      ]
    },
    {
      "cell_type": "markdown",
      "source": [
        "25. Why is it important to use multithreading in certain applications?\n",
        "  - Multithreading is important because it allows our program to do multiple things at the same time, especially when tasks are waiting around - like for user input, files to load or data to download from the internet.\n",
        "  -  Benefits of multithreading :     \n",
        "      - Better performance for I/O-bound tasks : If our program spends a lot of time waiting (for example, reading files or fetching web pages), multithreading lets other parts of our code run during those waits. This makes our program feel faster and more responsive.\n",
        "      - Improved user experience : In apps with a user interface (like games or desktop apps), multithreading helps keep the app responsive. For example, while one thread handles a long calculation, another keeps the UI from freezing.\n",
        "      - Efficient use of resources : Threads share the same memory space, so switching between them is usually faster and less memory-heavy than using multiple processes."
      ],
      "metadata": {
        "id": "ukUlU85Y7dBC"
      }
    },
    {
      "cell_type": "markdown",
      "source": [
        "# Files, exception handling, logging and memory management : Practical Questions"
      ],
      "metadata": {
        "id": "Ala-Wl8z5zhX"
      }
    },
    {
      "cell_type": "code",
      "source": [
        "#1. How can you open a file for writing in Python and write a string to it?\n",
        "\n",
        "# Open the file in write mode\n",
        "file = open(\"example1.txt\",\"w\")\n",
        "\n",
        "# Write a string to the file\n",
        "file.write(\"Hello world!\")\n",
        "file.write(\"\\nThis is the second line.\")\n",
        "\n",
        "# Close the file\n",
        "file.close()"
      ],
      "metadata": {
        "id": "jzkB3Wci6P8B"
      },
      "execution_count": null,
      "outputs": []
    },
    {
      "cell_type": "code",
      "source": [
        "ls # for checking : file is created or not"
      ],
      "metadata": {
        "colab": {
          "base_uri": "https://localhost:8080/"
        },
        "id": "TYpgaX1vEZyD",
        "outputId": "7eafe6ba-794a-4beb-bedd-36270e43f5ed"
      },
      "execution_count": null,
      "outputs": [
        {
          "output_type": "stream",
          "name": "stdout",
          "text": [
            "data123.txt   \u001b[0m\u001b[01;34mPractice\u001b[0m/   test11.txt  test.txt\n",
            "example1.txt  \u001b[01;34mPW_Skills\u001b[0m/  test.log\n"
          ]
        }
      ]
    },
    {
      "cell_type": "code",
      "source": [
        "#2. Write a Python program to read the contents of a file and print each line.\n",
        "\n",
        "# Open the file in read mode\n",
        "file = open(\"example1.txt\",\"r\")\n",
        "data = file.read()\n",
        "print(data)\n",
        "file.close()"
      ],
      "metadata": {
        "colab": {
          "base_uri": "https://localhost:8080/"
        },
        "id": "AcQVqjPk8fXy",
        "outputId": "a0e2f5c0-f013-4daf-b72e-022d2ed600a8"
      },
      "execution_count": null,
      "outputs": [
        {
          "output_type": "stream",
          "name": "stdout",
          "text": [
            "Hello world!\n",
            "This is the second line.\n"
          ]
        }
      ]
    },
    {
      "cell_type": "code",
      "source": [
        "#3. How would you handle a case where the file doesn't exist while trying to open it for reading?\n",
        "\n",
        "try:\n",
        "  file = open(\"example2.txt\",\"r\")\n",
        "except FileNotFoundError as e:\n",
        "  print(\"Error:\", e)\n",
        "else:\n",
        "  data = file.read()\n",
        "  print(data)\n",
        "  file.close()"
      ],
      "metadata": {
        "colab": {
          "base_uri": "https://localhost:8080/"
        },
        "id": "PjStD8_x9iIA",
        "outputId": "fdabfc56-d4c3-40d6-e3a1-399e42716a8e"
      },
      "execution_count": null,
      "outputs": [
        {
          "output_type": "stream",
          "name": "stdout",
          "text": [
            "Error: [Errno 2] No such file or directory: 'example2.txt'\n"
          ]
        }
      ]
    },
    {
      "cell_type": "code",
      "source": [
        "#4. Write a Python script that reads from one file and writes its content to another file.\n",
        "\n",
        "# Open the source file for reading\n",
        "with open(\"example1.txt\", \"r\") as source_file:\n",
        "\n",
        "  # Open the destination file for writing\n",
        "  with open(\"example2.txt\", \"w\") as destination_file:\n",
        "\n",
        "    # Read from source and write to destination\n",
        "    for data in source_file:\n",
        "      destination_file.write(data)"
      ],
      "metadata": {
        "id": "8vP5t6Kz-twv"
      },
      "execution_count": null,
      "outputs": []
    },
    {
      "cell_type": "code",
      "source": [
        "ls # for checking : file is created or not"
      ],
      "metadata": {
        "colab": {
          "base_uri": "https://localhost:8080/"
        },
        "id": "Us30l-FS_rhw",
        "outputId": "14f15ae1-1520-44ec-85e7-90fababbced1"
      },
      "execution_count": null,
      "outputs": [
        {
          "output_type": "stream",
          "name": "stdout",
          "text": [
            "data123.txt   example2.txt  \u001b[0m\u001b[01;34mPW_Skills\u001b[0m/  test.log\n",
            "example1.txt  \u001b[01;34mPractice\u001b[0m/     test11.txt  test.txt\n"
          ]
        }
      ]
    },
    {
      "cell_type": "code",
      "source": [
        "#5. How would you catch and handle division by zero error in Python?\n",
        "# To handle a division by zero error, we can use a try-except block. This helps us prevent the program from crashing and instead display a helpful message.\n",
        "\n",
        "try:\n",
        "  numerator = int(input(\"Enter the numerator:\"))\n",
        "  denominator = int(input(\"Enter the denominator:\"))\n",
        "  result = numerator / denominator\n",
        "  print(\"Result:\", result)\n",
        "except ZeroDivisionError as e:\n",
        "  print(\"Error:\",e)"
      ],
      "metadata": {
        "colab": {
          "base_uri": "https://localhost:8080/"
        },
        "id": "ybUrC-xS_2oc",
        "outputId": "8605713a-1401-4ad1-9f35-3cdfb4d0a684"
      },
      "execution_count": null,
      "outputs": [
        {
          "output_type": "stream",
          "name": "stdout",
          "text": [
            "Enter the numerator:5\n",
            "Enter the denominator:0\n",
            "Error: division by zero\n"
          ]
        }
      ]
    },
    {
      "cell_type": "code",
      "source": [
        "#6. Write a Python program that logs an error message to a log file when a division by zero exception occurs.\n",
        "import logging\n",
        "\n",
        "# Clear existing handlers first\n",
        "for handler in logging.root.handlers[:]:\n",
        "    logging.root.removeHandler(handler)\n",
        "\n",
        "# Set up logging to a file\n",
        "logging.basicConfig(filename = \"error.log\", level=logging.ERROR)\n",
        "try:\n",
        "  10/0\n",
        "except ZeroDivisionError as e:\n",
        "  logging.error(f\"Error: {e}\")"
      ],
      "metadata": {
        "id": "4vFez0lcBO-4"
      },
      "execution_count": null,
      "outputs": []
    },
    {
      "cell_type": "code",
      "source": [
        "ls # for checking : file is created or not"
      ],
      "metadata": {
        "colab": {
          "base_uri": "https://localhost:8080/"
        },
        "id": "5C_q997RBr1Q",
        "outputId": "a9996fa8-1a09-47d6-d186-ef466143565a"
      },
      "execution_count": null,
      "outputs": [
        {
          "output_type": "stream",
          "name": "stdout",
          "text": [
            "error.log\n"
          ]
        }
      ]
    },
    {
      "cell_type": "code",
      "source": [
        "#7. How do you log information at different levels (INFO, ERROR, WARNING) in Python using the logging module?\n",
        "# Python’s built-in logging module lets us log messages at different severity levels like INFO, WARNING, and ERROR.\n",
        "\n",
        "import logging\n",
        "\n",
        "# Clear existing handlers first\n",
        "for handler in logging.root.handlers[:]:\n",
        "    logging.root.removeHandler(handler)\n",
        "\n",
        "# Configure the logging system\n",
        "logging.basicConfig(level=logging.INFO, format='%(levelname)s: %(message)s')\n",
        "\n",
        "# Log messages at different levels\n",
        "logging.info(\"This is an info message.\")\n",
        "logging.warning(\"This is a warning message.\")\n",
        "logging.error(\"This is an error message.\")"
      ],
      "metadata": {
        "colab": {
          "base_uri": "https://localhost:8080/"
        },
        "id": "tYXmXQq1DJZK",
        "outputId": "b958ffb4-ff98-4297-f0c5-ddf399d9a11a"
      },
      "execution_count": null,
      "outputs": [
        {
          "output_type": "stream",
          "name": "stderr",
          "text": [
            "INFO: This is an info message.\n",
            "WARNING: This is a warning message.\n",
            "ERROR: This is an error message.\n"
          ]
        }
      ]
    },
    {
      "cell_type": "code",
      "source": [
        "#8. Write a program to handle a file opening error using exception handling.\n",
        "\n",
        "try:\n",
        "  # Try to open a file that may not exist\n",
        "  file = open(\"my_file.txt\", \"r\")\n",
        "  data = file.read()\n",
        "  print(data)\n",
        "  file.close()\n",
        "except FileNotFoundError as e:\n",
        "  print(\"Error:\", e)"
      ],
      "metadata": {
        "colab": {
          "base_uri": "https://localhost:8080/"
        },
        "id": "SIvZ3plCEYK3",
        "outputId": "91f9e623-595a-4b16-9af2-9f0db2dbcf1a"
      },
      "execution_count": null,
      "outputs": [
        {
          "output_type": "stream",
          "name": "stdout",
          "text": [
            "Error: [Errno 2] No such file or directory: 'my_file.txt'\n"
          ]
        }
      ]
    },
    {
      "cell_type": "code",
      "source": [
        "#9. How can you read a file line by line and store its content in a list in Python?\n",
        "lines = []\n",
        "with open(\"example2.txt\",\"r\") as file:\n",
        "  for line in file:\n",
        "    lines.append(line.strip())  # strip() removes newline characters\n",
        "print(lines)"
      ],
      "metadata": {
        "colab": {
          "base_uri": "https://localhost:8080/"
        },
        "id": "aT8Mk4TYFC3m",
        "outputId": "ec1bae56-aa1b-428e-de1f-bd36a6cb4616"
      },
      "execution_count": null,
      "outputs": [
        {
          "output_type": "stream",
          "name": "stdout",
          "text": [
            "['Hello world!', 'This is the second line.']\n"
          ]
        }
      ]
    },
    {
      "cell_type": "code",
      "source": [
        "#10. How can you append data to an existing file in Python?\n",
        "# To append data to a file without deleting its existing content, we use append mode (\"a\") with the open() function.\n",
        "\n",
        "# Open the file in append mode\n",
        "with open(\"example2.txt\",\"a\") as file:\n",
        "  file.write(\"\\nThis is the third line appended.\")\n",
        "\n",
        "# Now read this file for confirmation\n",
        "with open(\"example2.txt\",\"r\") as file:\n",
        "  data = file.read()\n",
        "  print(data)"
      ],
      "metadata": {
        "colab": {
          "base_uri": "https://localhost:8080/"
        },
        "id": "OLVOLN7TF5X3",
        "outputId": "3887f1f5-4a49-45d2-99e5-e277de882099"
      },
      "execution_count": null,
      "outputs": [
        {
          "output_type": "stream",
          "name": "stdout",
          "text": [
            "Hello world!\n",
            "This is the second line.\n",
            "This is the third line appended.\n"
          ]
        }
      ]
    },
    {
      "cell_type": "code",
      "source": [
        "#11. Write a Python program that uses a try-except block to handle an error when attempting to access a dictionary key that doesn't exist.\n",
        "\n",
        "# A sample dictionary\n",
        "person = {\n",
        "    'name' : \"Dhruv\",\n",
        "    'age' : 22\n",
        "}\n",
        "\n",
        "try:\n",
        "  print(person[\"city\"])\n",
        "except KeyError as e:\n",
        "  print(\"Error:\", e, \"doesn't exist in the dictionary.\")"
      ],
      "metadata": {
        "colab": {
          "base_uri": "https://localhost:8080/"
        },
        "id": "mVXadC6PHWVR",
        "outputId": "6bf635cf-2175-4f9a-bcdc-7a580343c51d"
      },
      "execution_count": null,
      "outputs": [
        {
          "output_type": "stream",
          "name": "stdout",
          "text": [
            "Error: 'city' doesn't exist in the dictionary.\n"
          ]
        }
      ]
    },
    {
      "cell_type": "code",
      "source": [
        "#12. Write a program that demonstrates using multiple except blocks to handle different types of exceptions.\n",
        "try:\n",
        "  num1 = int(input(\"Enter the first number:\"))\n",
        "  num2 = int(input(\"Enter the second number:\"))\n",
        "  result = num1 / num2\n",
        "  print(\"Result:\", result)\n",
        "except ZeroDivisionError as e:\n",
        "  print(\"Error:\", e)\n",
        "except ValueError as e:\n",
        "  print(\"Error:\", e)\n",
        "except Exception as e:\n",
        "  print(\"Error:\", e)"
      ],
      "metadata": {
        "colab": {
          "base_uri": "https://localhost:8080/"
        },
        "id": "Jk2yXMSJJDB1",
        "outputId": "3a5eb983-f948-41a5-c15f-ea2ee1a3b067"
      },
      "execution_count": null,
      "outputs": [
        {
          "output_type": "stream",
          "name": "stdout",
          "text": [
            "Enter the first number:5\n",
            "Enter the second number:Hello\n",
            "Error: invalid literal for int() with base 10: 'Hello'\n"
          ]
        }
      ]
    },
    {
      "cell_type": "code",
      "source": [
        "#13. How would you check if a file exists before attempting to read it in Python?\n",
        "# We can use the os.path.exists() method from the os module to check if a file exists before trying to open it.\n",
        "\n",
        "import os\n",
        "\n",
        "filename = \"example2.txt\"\n",
        "\n",
        "if os.path.exists(filename):\n",
        "  with open(filename, \"r\") as file:\n",
        "    data = file.read()\n",
        "    print(data)\n",
        "else:\n",
        "  print(f\"The file '{filename}' does not exist.\")"
      ],
      "metadata": {
        "colab": {
          "base_uri": "https://localhost:8080/"
        },
        "id": "9JGtXTGOKERL",
        "outputId": "c1afcbb9-767d-453d-fe20-272e92108bab"
      },
      "execution_count": null,
      "outputs": [
        {
          "output_type": "stream",
          "name": "stdout",
          "text": [
            "Hello world!\n",
            "This is the second line.\n",
            "This is the third line appended.\n"
          ]
        }
      ]
    },
    {
      "cell_type": "code",
      "source": [
        "#14. Write a program that uses the logging module to log both informational and error messages.\n",
        "import logging\n",
        "\n",
        "# Clear existing handlers first\n",
        "for handler in logging.root.handlers[:]:\n",
        "    logging.root.removeHandler(handler)\n",
        "\n",
        "# Set up logging configuration\n",
        "logging.basicConfig(filename = \"temperature_log.log\", level = logging.INFO, format = \"%(asctime)s - %(levelname)s - %(message)s\")\n",
        "\n",
        "# Log an info message\n",
        "logging.info(\"Temperature conversion program started.\")\n",
        "\n",
        "try:\n",
        "    celsius = float(input(\"Enter temperature in Celsius: \"))\n",
        "    fahrenheit = (celsius * 9/5) + 32\n",
        "    print(f\"{celsius} Celsius is equal to {fahrenheit} Fahrenhit.\")\n",
        "    logging.info(f\"Converted {celsius} Celsius to {fahrenheit} Fahrenhit\")\n",
        "\n",
        "except ValueError as e:\n",
        "    print(\"Invalid input. Please enter a numeric value.\")\n",
        "    logging.error(f\"Conversion failed due to invalid input: {e}\")\n"
      ],
      "metadata": {
        "colab": {
          "base_uri": "https://localhost:8080/"
        },
        "id": "Ym7QUS6KLO2H",
        "outputId": "5e5a47cf-a5a2-4029-e07d-2394bcb8fce2"
      },
      "execution_count": null,
      "outputs": [
        {
          "output_type": "stream",
          "name": "stdout",
          "text": [
            "Enter temperature in Celsius: 37\n",
            "37.0 Celsius is equal to 98.6 Fahrenhit.\n"
          ]
        }
      ]
    },
    {
      "cell_type": "code",
      "source": [
        "ls # for checking : file is created or not"
      ],
      "metadata": {
        "colab": {
          "base_uri": "https://localhost:8080/"
        },
        "id": "zXqHsdPgOmnY",
        "outputId": "3b32e491-da00-47c9-e888-bcf3fb0a37e9"
      },
      "execution_count": null,
      "outputs": [
        {
          "output_type": "stream",
          "name": "stdout",
          "text": [
            "error.log  temperature_log.log\n"
          ]
        }
      ]
    },
    {
      "cell_type": "code",
      "source": [
        "#15. Write a Python program that prints the content of a file and handles the case when the file is empty.\n",
        "def read_file(filename):\n",
        "    try:\n",
        "        with open(filename, \"r\") as file:\n",
        "            data = file.read()\n",
        "            if data.strip() == \"\":\n",
        "                print(\"The file is empty.\")\n",
        "            else:\n",
        "                print(data)\n",
        "\n",
        "    except FileNotFoundError as e:\n",
        "        print(\"Error:\",e)\n",
        "\n",
        "\n",
        "file_name = \"example2.txt\"\n",
        "read_file(file_name)\n"
      ],
      "metadata": {
        "colab": {
          "base_uri": "https://localhost:8080/"
        },
        "id": "Ad2jANcmO8ak",
        "outputId": "a82becc2-83ec-49f0-dfd0-56ea9c9d3109"
      },
      "execution_count": null,
      "outputs": [
        {
          "output_type": "stream",
          "name": "stdout",
          "text": [
            "Hello world!\n",
            "This is the second line.\n",
            "This is the third line appended.\n"
          ]
        }
      ]
    },
    {
      "cell_type": "code",
      "source": [
        "#16. Demonstrate how to use memory profiling to check the memory usage of a small program.\n",
        "# Memory profiling in Google Colab:\n",
        "\n",
        "# # install memory_profiler in Colab (I already installed it)\n",
        "# !pip install memory-profiler\n",
        "\n",
        "# Importing memory_profiler and using %memit\n",
        "from memory_profiler import memory_usage\n",
        "\n",
        "# Define the function to profile\n",
        "def create_large_list():\n",
        "    large_list = [i for i in range(10**6)]  # Creating a large list\n",
        "    return large_list\n",
        "\n",
        "# Function that calls the above function\n",
        "def simple_function():\n",
        "    result = create_large_list()\n",
        "    return result\n",
        "\n",
        "# Use the memory_usage function to profile memory\n",
        "mem_usage = memory_usage(simple_function)\n",
        "\n",
        "# Display memory usage\n",
        "print(f\"Memory usage: {max(mem_usage)} MB\")\n"
      ],
      "metadata": {
        "colab": {
          "base_uri": "https://localhost:8080/"
        },
        "id": "G5ZKJipDRWPA",
        "outputId": "905ad18e-7dbc-4a5f-f214-1785ba588183"
      },
      "execution_count": null,
      "outputs": [
        {
          "output_type": "stream",
          "name": "stdout",
          "text": [
            "Memory usage: 387.40625 MB\n"
          ]
        }
      ]
    },
    {
      "cell_type": "code",
      "source": [
        "#17. Write a Python program to create and write a list of numbers to a file, one number per line.\n",
        "def write_numbers_to_file(filename, numbers):\n",
        "    try:\n",
        "        with open(filename, 'w') as file:\n",
        "            for number in numbers:\n",
        "                file.write(f\"{number}\\n\")  # Write each number on a new line\n",
        "    except Exception as e:\n",
        "        print(f\"An error occurred: {e}\")\n",
        "\n",
        "# List of numbers to write to the file\n",
        "numbers = [1, 2, 3, 4, 5, 6, 7, 8, 9, 10]\n",
        "\n",
        "# Specify the filename\n",
        "filename = \"numbers.txt\"\n",
        "\n",
        "# Call the function to write numbers to the file\n",
        "write_numbers_to_file(filename, numbers)\n",
        "\n",
        "\n",
        "# Now read the file for confirmation\n",
        "with open(\"numbers.txt\", \"r\") as file:\n",
        "  data = file.read()\n",
        "  print(data)"
      ],
      "metadata": {
        "colab": {
          "base_uri": "https://localhost:8080/"
        },
        "id": "JKNA6lHWUo0Z",
        "outputId": "af684ec3-96ae-4612-d069-c710fe007489"
      },
      "execution_count": null,
      "outputs": [
        {
          "output_type": "stream",
          "name": "stdout",
          "text": [
            "1\n",
            "2\n",
            "3\n",
            "4\n",
            "5\n",
            "6\n",
            "7\n",
            "8\n",
            "9\n",
            "10\n",
            "\n"
          ]
        }
      ]
    },
    {
      "cell_type": "code",
      "source": [
        "#18. How would you implement a basic logging setup that logs to a file with rotation after 1MB?\n",
        "# For Colab:\n",
        "\n",
        "import logging\n",
        "from logging.handlers import RotatingFileHandler\n",
        "\n",
        "# Clear existing handlers first\n",
        "for handler in logging.root.handlers[:]:\n",
        "    logging.root.removeHandler(handler)\n",
        "\n",
        "# Define log file and settings\n",
        "log_file = \"colab_log.log\"\n",
        "max_log_size = 1 * 1024 * 1024  # 1 MB\n",
        "backup_count = 2  # Keep 2 backups\n",
        "\n",
        "# Set up logger\n",
        "logger = logging.getLogger(\"ColabLogger\")\n",
        "logger.setLevel(logging.INFO)\n",
        "\n",
        "# Create rotating file handler\n",
        "handler = RotatingFileHandler(log_file, maxBytes=max_log_size, backupCount=backup_count)\n",
        "formatter = logging.Formatter('%(asctime)s - %(levelname)s - %(message)s')\n",
        "handler.setFormatter(formatter)\n",
        "logger.addHandler(handler)\n",
        "\n",
        "# Generate enough log entries to trigger rotation\n",
        "for i in range(15000):\n",
        "    logger.info(f\"This is log message number {i}\")"
      ],
      "metadata": {
        "id": "kIV5Rp-VWcHy"
      },
      "execution_count": null,
      "outputs": []
    },
    {
      "cell_type": "code",
      "source": [
        "# Read and print the main log file\n",
        "with open(\"colab_log.log\", \"r\") as file:\n",
        "    print(file.read()[:1000])  # print only the first 1000 characters"
      ],
      "metadata": {
        "colab": {
          "base_uri": "https://localhost:8080/"
        },
        "id": "vH26_rnpYQ_n",
        "outputId": "b3a3df4d-58ee-4f48-fc98-ed287598f21b"
      },
      "execution_count": null,
      "outputs": [
        {
          "output_type": "stream",
          "name": "stdout",
          "text": [
            "2025-04-17 10:50:55,570 - INFO - This is log message number 0\n",
            "2025-04-17 10:50:55,572 - INFO - This is log message number 1\n",
            "2025-04-17 10:50:55,572 - INFO - This is log message number 2\n",
            "2025-04-17 10:50:55,573 - INFO - This is log message number 3\n",
            "2025-04-17 10:50:55,573 - INFO - This is log message number 4\n",
            "2025-04-17 10:50:55,574 - INFO - This is log message number 5\n",
            "2025-04-17 10:50:55,574 - INFO - This is log message number 6\n",
            "2025-04-17 10:50:55,574 - INFO - This is log message number 7\n",
            "2025-04-17 10:50:55,575 - INFO - This is log message number 8\n",
            "2025-04-17 10:50:55,575 - INFO - This is log message number 9\n",
            "2025-04-17 10:50:55,575 - INFO - This is log message number 10\n",
            "2025-04-17 10:50:55,576 - INFO - This is log message number 11\n",
            "2025-04-17 10:50:55,576 - INFO - This is log message number 12\n",
            "2025-04-17 10:50:55,576 - INFO - This is log message number 13\n",
            "2025-04-17 10:50:55,577 - INFO - This is log message number 14\n",
            "2025-04-17 10:50:55,577 - INFO - This is log message number 15\n",
            "20\n"
          ]
        }
      ]
    },
    {
      "cell_type": "code",
      "source": [
        "#19. Write a program that handles both IndexError and KeyError using a try-except block.\n",
        "def handle_errors():\n",
        "    my_list = [10, 20, 30]\n",
        "    my_dict = {\"name\": \"Dhruv\", \"age\": 22}\n",
        "\n",
        "    # Handle IndexError\n",
        "    try:\n",
        "        print(\"List item:\", my_list[5])\n",
        "    except IndexError as e:\n",
        "        print(\"IndexError:\",e)\n",
        "\n",
        "    # Handle KeyError\n",
        "    try:\n",
        "        print(\"City:\", my_dict[\"city\"])\n",
        "    except KeyError as e:\n",
        "        print(\"KeyError:\",e)\n",
        "\n",
        "handle_errors()"
      ],
      "metadata": {
        "colab": {
          "base_uri": "https://localhost:8080/"
        },
        "id": "fZFvNq9GYhAs",
        "outputId": "d42136a3-0530-4c0d-ce8d-e792c474e50b"
      },
      "execution_count": null,
      "outputs": [
        {
          "output_type": "stream",
          "name": "stdout",
          "text": [
            "IndexError: list index out of range\n",
            "KeyError: 'city'\n"
          ]
        }
      ]
    },
    {
      "cell_type": "code",
      "source": [
        "#20. How would you open a file and read its contents using a context manager in Python?\n",
        "try:\n",
        "    with open('numbers.txt','r') as file:\n",
        "        data = file.read()\n",
        "        print(data)\n",
        "except FileNotFoundError as e:\n",
        "    print(\"Error:\",e)"
      ],
      "metadata": {
        "colab": {
          "base_uri": "https://localhost:8080/"
        },
        "id": "--0Ray-GbRMs",
        "outputId": "e512b4c4-1130-46fb-c8f9-fb339b38ec68"
      },
      "execution_count": null,
      "outputs": [
        {
          "output_type": "stream",
          "name": "stdout",
          "text": [
            "1\n",
            "2\n",
            "3\n",
            "4\n",
            "5\n",
            "6\n",
            "7\n",
            "8\n",
            "9\n",
            "10\n",
            "\n"
          ]
        }
      ]
    },
    {
      "cell_type": "code",
      "source": [
        "#21. Write a Python program that reads a file and prints the number of occurrences of a specific word.\n",
        "# case-insensitive count\n",
        "\n",
        "def count_word_in_file(filename, word):\n",
        "    try:\n",
        "        with open(filename, 'r') as file:\n",
        "            data = file.read().lower()  # read entire file and make it lowercase\n",
        "            word_count = data.count(word.lower())\n",
        "            print(f\"The word '{word}' occurs {word_count} times in the file.\")\n",
        "    except FileNotFoundError as e:\n",
        "        print(\"Error:\", e)\n",
        "\n",
        "\n",
        "filename = \"example2.txt\"\n",
        "word = \"This\"\n",
        "\n",
        "count_word_in_file(filename, word)"
      ],
      "metadata": {
        "colab": {
          "base_uri": "https://localhost:8080/"
        },
        "id": "6FWZbKMtcQMo",
        "outputId": "4900379e-a49e-4ee6-81b7-8375d0f5db39"
      },
      "execution_count": null,
      "outputs": [
        {
          "output_type": "stream",
          "name": "stdout",
          "text": [
            "The word 'This' occurs 2 times in the file.\n"
          ]
        }
      ]
    },
    {
      "cell_type": "code",
      "source": [
        "#22. How can you check if a file is empty before attempting to read its contents?\n",
        "# Using os.stat() to check file size\n",
        "\n",
        "import os\n",
        "\n",
        "filename = \"data123.txt\"\n",
        "# Check if the file exists and is not empty\n",
        "if os.path.exists(filename):\n",
        "    if os.stat(filename).st_size == 0:\n",
        "        print(\"The file is empty.\")\n",
        "    else:\n",
        "        with open(filename, 'r') as file:\n",
        "            data = file.read()\n",
        "            print(data)\n",
        "else:\n",
        "    print(\"The file does not exist.\")"
      ],
      "metadata": {
        "colab": {
          "base_uri": "https://localhost:8080/"
        },
        "id": "FkISTBybdewa",
        "outputId": "96b5457f-a154-45b2-df70-65fb6f50a263"
      },
      "execution_count": null,
      "outputs": [
        {
          "output_type": "stream",
          "name": "stdout",
          "text": [
            "Hello, world!\n"
          ]
        }
      ]
    },
    {
      "cell_type": "code",
      "source": [
        "#23. Write a Python program that writes to a log file when an error occurs during file handling.\n",
        "import logging\n",
        "\n",
        "# Clear existing handlers first\n",
        "for handler in logging.root.handlers[:]:\n",
        "    logging.root.removeHandler(handler)\n",
        "\n",
        "logging.basicConfig(filename = \"new_log.log\", level = logging.ERROR, format = '%(asctime)s - %(levelname)s - %(message)s')\n",
        "\n",
        "try:\n",
        "  file = open(\"new_file.txt\",\"r\")\n",
        "  data = file.read()\n",
        "  print(data)\n",
        "  file.close()\n",
        "except FileNotFoundError as e:\n",
        "  logging.error(f\"File not found: {e}\")"
      ],
      "metadata": {
        "id": "0kCNeGamekEL"
      },
      "execution_count": null,
      "outputs": []
    },
    {
      "cell_type": "code",
      "source": [
        "ls # for checking : file is created or not"
      ],
      "metadata": {
        "colab": {
          "base_uri": "https://localhost:8080/"
        },
        "id": "L_3FAPMD7Vyk",
        "outputId": "140003ab-ebc5-44b0-952c-b2d3f6f33c30"
      },
      "execution_count": null,
      "outputs": [
        {
          "output_type": "stream",
          "name": "stdout",
          "text": [
            "colab_log.log  error.log  new_log.log  numbers.txt  temperature_log.log\n"
          ]
        }
      ]
    }
  ]
}